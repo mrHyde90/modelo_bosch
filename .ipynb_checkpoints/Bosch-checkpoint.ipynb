{
 "cells": [
  {
   "cell_type": "code",
   "execution_count": 2,
   "metadata": {},
   "outputs": [],
   "source": [
    "from sklearn.linear_model import LogisticRegression\n",
    "import numpy as np"
   ]
  },
  {
   "cell_type": "markdown",
   "metadata": {},
   "source": [
    "Variables o Features:\n",
    "\n",
    "\"accelerometer\",\n",
    "\t\"gyroscope\",\n",
    "\t\"magnetometer\",\n",
    "\t\"humidity\""
   ]
  },
  {
   "cell_type": "code",
   "execution_count": 10,
   "metadata": {},
   "outputs": [],
   "source": [
    "#Creamos la matriz que contiene los datos de las variables (accelerometer, gyroscope, magnetometer, humidity)\n",
    "feature_matrix = np.random.rand(300,4)\n",
    "#Creamos el arreglo que contiene los labels\n",
    "predict_label = (np.random.rand(300) > 0.5).astype(int)"
   ]
  },
  {
   "cell_type": "code",
   "execution_count": 27,
   "metadata": {},
   "outputs": [
    {
     "data": {
      "text/plain": [
       "array([1, 0, 1, 0, 1, 0, 0, 0, 0, 0, 0, 0, 0, 0, 0, 0, 1, 1, 0, 0])"
      ]
     },
     "execution_count": 27,
     "metadata": {},
     "output_type": "execute_result"
    }
   ],
   "source": [
    "#Checamos los datos contenidos en el predict_label, 1 mantenimiento, 0 no necesita\n",
    "predict_label[0:20]"
   ]
  },
  {
   "cell_type": "code",
   "execution_count": 12,
   "metadata": {},
   "outputs": [],
   "source": [
    "#Creamos el modelo usando un modelo de clasificacion\n",
    "clf = LogisticRegression(random_state=0, solver='lbfgs', multi_class='multinomial').fit(feature_matrix, predict_label)"
   ]
  },
  {
   "cell_type": "code",
   "execution_count": 30,
   "metadata": {},
   "outputs": [
    {
     "data": {
      "text/plain": [
       "array([0])"
      ]
     },
     "execution_count": 30,
     "metadata": {},
     "output_type": "execute_result"
    }
   ],
   "source": [
    "#Hacemos una pequena prediccion\n",
    "prueba = np.random.rand(1, 4)\n",
    "clf.predict(prueba)"
   ]
  },
  {
   "cell_type": "code",
   "execution_count": 31,
   "metadata": {},
   "outputs": [
    {
     "data": {
      "text/plain": [
       "array([[0.74554024, 0.31932627, 0.90100046, 0.5975088 ]])"
      ]
     },
     "execution_count": 31,
     "metadata": {},
     "output_type": "execute_result"
    }
   ],
   "source": [
    "prueba"
   ]
  },
  {
   "cell_type": "markdown",
   "metadata": {},
   "source": [
    "Recordemos si nos marca **1  necesita mantenimiento, de lo contrario 0 no necesita**"
   ]
  },
  {
   "cell_type": "code",
   "execution_count": 26,
   "metadata": {},
   "outputs": [
    {
     "name": "stdout",
     "output_type": "stream",
     "text": [
      "Los pesos, son 4 ya que nuestros features o variables eran 4\n",
      "[[-0.13360025  0.19160088  0.10749425 -0.10344981]]\n",
      "El interceptor\n",
      "[-0.09699679]\n"
     ]
    }
   ],
   "source": [
    "#Checamos el contenido de nuestro clasificador\n",
    "print(\"Los pesos, son 4 ya que nuestros features o variables eran 4\")\n",
    "print(clf.coef_)\n",
    "print(\"El interceptor\")\n",
    "print(clf.intercept_)"
   ]
  },
  {
   "cell_type": "markdown",
   "metadata": {},
   "source": [
    "### Nota: esos pesos e interceptor son los que se usaran en el servidor para hacer la prediccion"
   ]
  }
 ],
 "metadata": {
  "kernelspec": {
   "display_name": "Python 3",
   "language": "python",
   "name": "python3"
  },
  "language_info": {
   "codemirror_mode": {
    "name": "ipython",
    "version": 3
   },
   "file_extension": ".py",
   "mimetype": "text/x-python",
   "name": "python",
   "nbconvert_exporter": "python",
   "pygments_lexer": "ipython3",
   "version": "3.7.1"
  }
 },
 "nbformat": 4,
 "nbformat_minor": 2
}
